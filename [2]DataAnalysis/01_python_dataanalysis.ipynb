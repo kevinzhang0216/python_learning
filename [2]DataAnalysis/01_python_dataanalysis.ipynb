{
 "cells": [
  {
   "cell_type": "markdown",
   "metadata": {},
   "source": [
    "# 课程主要内容\n",
    "1. 利用python进行数据处理、整理与分析\n",
    "2. 主要讲解以下库：\n",
    "    1. Numpy\n",
    "    2. padas\n",
    "    3. matplotlib\n",
    "    4. jupter notebook"
   ]
  },
  {
   "cell_type": "markdown",
   "metadata": {},
   "source": [
    "## 安装与配置\n",
    "用anaconda安装，是个打包的集合，预装了conda，众多的pakages、计算工具等。"
   ]
  },
  {
   "cell_type": "markdown",
   "metadata": {},
   "source": [
    "## jupter notebook使用技巧\n",
    "1. 打开\n",
    "2. *tab*自动补全\n",
    "3. 使用帮助： ？+ 变量\n",
    "4. 运行文件： % + python文件\n",
    "5. 计算时间： %timeit + 内容\n"
   ]
  },
  {
   "cell_type": "code",
   "execution_count": 1,
   "metadata": {},
   "outputs": [
    {
     "name": "stdout",
     "output_type": "stream",
     "text": [
      "35 µs ± 719 ns per loop (mean ± std. dev. of 7 runs, 10000 loops each)\n"
     ]
    }
   ],
   "source": [
    "%timeit b = [a**5 for a in range(100)]"
   ]
  }
 ],
 "metadata": {
  "kernelspec": {
   "display_name": "Python 3",
   "language": "python",
   "name": "python3"
  },
  "language_info": {
   "codemirror_mode": {
    "name": "ipython",
    "version": 3
   },
   "file_extension": ".py",
   "mimetype": "text/x-python",
   "name": "python",
   "nbconvert_exporter": "python",
   "pygments_lexer": "ipython3",
   "version": "3.7.0"
  }
 },
 "nbformat": 4,
 "nbformat_minor": 2
}
